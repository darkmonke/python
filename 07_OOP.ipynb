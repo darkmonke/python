{
 "cells": [
  {
   "cell_type": "markdown",
   "id": "30b79b0f-4b47-45e8-8f9d-6d98025ec0e1",
   "metadata": {},
   "source": [
    "# 객체 지향 프로그래밍 (OOP)\n",
    "\n",
    "- 클래스(class): 같은 종류의 집단에 속하는 '속성'과 '행동'을 정의한 것\n",
    "- 속성(attribute): 클래스/인스턴스가 가지고 있는 데이터/값\n",
    "- 행동(method): 클래스/인스턴스가 가지고 있는 함수/기능\n",
    "- 인스턴스(instance): 클래스를 실제로 메모리상에 할당한 것"
   ]
  },
  {
   "cell_type": "code",
   "execution_count": 8,
   "id": "7785b095-ff92-47b6-9e6b-3f274d47ceee",
   "metadata": {},
   "outputs": [],
   "source": [
    "number = 1 + 2j"
   ]
  },
  {
   "cell_type": "code",
   "execution_count": 9,
   "id": "458c9607-7bd4-42c8-9b23-1d8b02e240ba",
   "metadata": {},
   "outputs": [
    {
     "name": "stdout",
     "output_type": "stream",
     "text": [
      "<class 'complex'>\n"
     ]
    }
   ],
   "source": [
    "print(type(number))"
   ]
  },
  {
   "cell_type": "code",
   "execution_count": 10,
   "id": "7a15e19b-0620-4753-8bb9-8ce0b8696041",
   "metadata": {},
   "outputs": [
    {
     "name": "stdout",
     "output_type": "stream",
     "text": [
      "1.0\n",
      "2.0\n"
     ]
    }
   ],
   "source": [
    "print(number.real)\n",
    "print(number.imag)"
   ]
  },
  {
   "cell_type": "code",
   "execution_count": 11,
   "id": "69ab0716-1579-4adb-a68a-50abac95a655",
   "metadata": {},
   "outputs": [],
   "source": [
    "numbers = [1, 2, 3]"
   ]
  },
  {
   "cell_type": "code",
   "execution_count": 12,
   "id": "f62181cd-95d2-46f7-8ea0-e67d7aa39c1f",
   "metadata": {},
   "outputs": [
    {
     "name": "stdout",
     "output_type": "stream",
     "text": [
      "<class 'list'>\n"
     ]
    }
   ],
   "source": [
    "print(type(numbers))"
   ]
  },
  {
   "cell_type": "code",
   "execution_count": 13,
   "id": "24cb7c87-ebe2-4055-b2e6-42507f0fd04f",
   "metadata": {},
   "outputs": [
    {
     "name": "stdout",
     "output_type": "stream",
     "text": [
      "[3, 2, 1]\n"
     ]
    }
   ],
   "source": [
    "numbers.reverse()\n",
    "print(numbers)"
   ]
  },
  {
   "cell_type": "code",
   "execution_count": 17,
   "id": "3c1ffac0-4a73-483b-93d8-d085bc932348",
   "metadata": {},
   "outputs": [
    {
     "name": "stdout",
     "output_type": "stream",
     "text": [
      "010-1234-5678가 010-0000-0000한테 전화 거는 중\n"
     ]
    }
   ],
   "source": [
    "number = '010-1234-5678'\n",
    "power = True\n",
    "phone_book = {\n",
    "    'kim' : '010-0000-0000',\n",
    "    'park' : '010-0000-0000',\n",
    "}\n",
    "def call(from_num, to_num):\n",
    "    print(f'{from_num}가 {to_num}한테 전화 거는 중')\n",
    "\n",
    "call(number, phone_book['kim'])"
   ]
  },
  {
   "cell_type": "markdown",
   "id": "dda6d6e1-ae93-4cd8-9dac-f9c507a00a8b",
   "metadata": {},
   "source": [
    "## class\n",
    "\n",
    "- 클래스 선언/정의\n",
    "  ```python\n",
    "  class ClassName():\n",
    "      attribute1 = value1\n",
    "      attribute2 = value2\n",
    "  ```\n",
    "\n",
    "    def method_name1(self):\n",
    "        code\n",
    "\n",
    "    def method_name2(self):\n",
    "        code\n",
    "  \n",
    "- 인스턴스화(클래스 실행)\n",
    "\n",
    "    c = ClassName()"
   ]
  },
  {
   "cell_type": "code",
   "execution_count": 178,
   "id": "12f864bf-efb7-4c71-9bcf-59cd4335c440",
   "metadata": {},
   "outputs": [],
   "source": [
    "# 선언\n",
    "class MyClass():\n",
    "    name = 'kim'\n",
    "\n",
    "    def hello(self): # self는 인스턴스 자기 자신을 의미\n",
    "        return 'hihihihi'"
   ]
  },
  {
   "cell_type": "code",
   "execution_count": 179,
   "id": "f0be4892-135f-4695-a332-8fe9f407b148",
   "metadata": {},
   "outputs": [],
   "source": [
    "# 인스턴스화\n",
    "m = MyClass()"
   ]
  },
  {
   "cell_type": "code",
   "execution_count": 180,
   "id": "451b7521-d3fc-42f0-b7a6-e7d36d2e44b6",
   "metadata": {},
   "outputs": [
    {
     "name": "stdout",
     "output_type": "stream",
     "text": [
      "<class '__main__.MyClass'>\n"
     ]
    }
   ],
   "source": [
    "print(type(m))"
   ]
  },
  {
   "cell_type": "code",
   "execution_count": 181,
   "id": "5bc8dee2-563b-4e6d-bbc3-0cfbd5194c4e",
   "metadata": {},
   "outputs": [
    {
     "name": "stdout",
     "output_type": "stream",
     "text": [
      "kim\n",
      "hihihihi\n"
     ]
    }
   ],
   "source": [
    "print(m.name)\n",
    "print(m.hello())"
   ]
  },
  {
   "cell_type": "code",
   "execution_count": 182,
   "id": "1e39db39-c8c2-4825-9a1b-e1d5318f65c6",
   "metadata": {},
   "outputs": [
    {
     "name": "stdout",
     "output_type": "stream",
     "text": [
      "kim\n",
      "hihihihi\n"
     ]
    }
   ],
   "source": [
    "m2 = MyClass()\n",
    "print(m2.name)\n",
    "print(m2.hello())"
   ]
  },
  {
   "cell_type": "code",
   "execution_count": 24,
   "id": "9eeb0572-36b1-4934-8c9f-483796de24b6",
   "metadata": {},
   "outputs": [
    {
     "name": "stdout",
     "output_type": "stream",
     "text": [
      "kim\n",
      "park\n"
     ]
    }
   ],
   "source": [
    "m2.name = 'park'\n",
    "\n",
    "print(m.name)\n",
    "print(m2.name)"
   ]
  },
  {
   "cell_type": "code",
   "execution_count": 138,
   "id": "f5f69d37-4b06-432c-9e73-39defc40dbf0",
   "metadata": {},
   "outputs": [],
   "source": [
    "class Phone():\n",
    "    power = False\n",
    "    number = '010-0000-0000'\n",
    "    book = {}\n",
    "    model = ''\n",
    "\n",
    "    def on(self):\n",
    "        if self.power == False:\n",
    "            self.power = True\n",
    "\n",
    "    def off(self):\n",
    "        if self.power == True:\n",
    "            self.power = False\n",
    "\n",
    "    def call(self, target):\n",
    "        if self.power == True:\n",
    "            print(f'{self.number}가 {target.number}한테 전화거는 중')\n",
    "        else:\n",
    "            print('핸드폰이 꺼져 있습니다.')"
   ]
  },
  {
   "cell_type": "code",
   "execution_count": 139,
   "id": "eb7b3af3-7f78-4b1b-aba3-34f06c9b5f21",
   "metadata": {},
   "outputs": [],
   "source": [
    "my_phone = Phone()\n",
    "your_phone = Phone()"
   ]
  },
  {
   "cell_type": "code",
   "execution_count": 140,
   "id": "8c259162-6f9f-4c9d-b068-bc3b64195a6a",
   "metadata": {},
   "outputs": [
    {
     "data": {
      "text/plain": [
       "'010-0000-0000'"
      ]
     },
     "execution_count": 140,
     "metadata": {},
     "output_type": "execute_result"
    }
   ],
   "source": [
    "my_phone.number"
   ]
  },
  {
   "cell_type": "code",
   "execution_count": 47,
   "id": "045406a8-dfb2-4810-a9c9-f21e29b2cba1",
   "metadata": {},
   "outputs": [
    {
     "data": {
      "text/plain": [
       "'010-0000-0000'"
      ]
     },
     "execution_count": 47,
     "metadata": {},
     "output_type": "execute_result"
    }
   ],
   "source": [
    "your_phone.number"
   ]
  },
  {
   "cell_type": "code",
   "execution_count": 48,
   "id": "94a9459d-e1de-4ba7-b885-96fd039aa4d6",
   "metadata": {},
   "outputs": [
    {
     "name": "stdout",
     "output_type": "stream",
     "text": [
      "010-1234-5678\n"
     ]
    }
   ],
   "source": [
    "my_phone.number = '010-1234-5678'\n",
    "print(my_phone.number)"
   ]
  },
  {
   "cell_type": "code",
   "execution_count": 49,
   "id": "da2afbe9-468d-4a16-a958-64c1505bcf02",
   "metadata": {},
   "outputs": [
    {
     "data": {
      "text/plain": [
       "False"
      ]
     },
     "execution_count": 49,
     "metadata": {},
     "output_type": "execute_result"
    }
   ],
   "source": [
    "my_phone.power"
   ]
  },
  {
   "cell_type": "code",
   "execution_count": 50,
   "id": "fa6c65b4-a020-4f07-a8d3-04212a83fe17",
   "metadata": {},
   "outputs": [],
   "source": [
    "my_phone.on()"
   ]
  },
  {
   "cell_type": "code",
   "execution_count": 51,
   "id": "ceb459e0-77ab-492e-972b-5063f4797f1a",
   "metadata": {},
   "outputs": [
    {
     "data": {
      "text/plain": [
       "True"
      ]
     },
     "execution_count": 51,
     "metadata": {},
     "output_type": "execute_result"
    }
   ],
   "source": [
    "my_phone.power"
   ]
  },
  {
   "cell_type": "code",
   "execution_count": 52,
   "id": "faf6eef5-fe5c-4a64-adf0-5c65deb45e26",
   "metadata": {},
   "outputs": [
    {
     "data": {
      "text/plain": [
       "False"
      ]
     },
     "execution_count": 52,
     "metadata": {},
     "output_type": "execute_result"
    }
   ],
   "source": [
    "your_phone.power"
   ]
  },
  {
   "cell_type": "code",
   "execution_count": 53,
   "id": "847c3b01-d77e-427f-8469-36339612f2f3",
   "metadata": {},
   "outputs": [
    {
     "name": "stdout",
     "output_type": "stream",
     "text": [
      "010-1234-5678가 010-0000-0000한테 전화거는 중\n"
     ]
    }
   ],
   "source": [
    "my_phone.call(your_phone)"
   ]
  },
  {
   "cell_type": "code",
   "execution_count": 54,
   "id": "aa2c0f10-37cb-4dc2-9b31-b3f0d9a150c4",
   "metadata": {},
   "outputs": [
    {
     "name": "stdout",
     "output_type": "stream",
     "text": [
      "핸드폰이 꺼져 있습니다.\n"
     ]
    }
   ],
   "source": [
    "your_phone.call(your_phone)"
   ]
  },
  {
   "cell_type": "code",
   "execution_count": 55,
   "id": "3e6165a5-86b1-4eed-a958-0af0a39fb9f6",
   "metadata": {},
   "outputs": [],
   "source": [
    "# 1. 사람 정의\n",
    "class Person():\n",
    "    name = ''\n",
    "    gender = ''\n",
    "    age = 0\n",
    "    height = 0\n",
    "\n",
    "    def greeting(self):\n",
    "        print(f'안녕하세요. 나는 {self.name}입니다.')\n",
    "\n",
    "    def grow(self):\n",
    "        self.age += 1"
   ]
  },
  {
   "cell_type": "code",
   "execution_count": 56,
   "id": "8c48bb2b-634e-4d6a-9eff-585c9823f0eb",
   "metadata": {},
   "outputs": [],
   "source": [
    "# 2. 사람 생성\n",
    "p1 = Person()\n",
    "p2 = Person()"
   ]
  },
  {
   "cell_type": "code",
   "execution_count": 57,
   "id": "85cc4236-4cee-4c06-b7dc-b26ff5db50c2",
   "metadata": {},
   "outputs": [
    {
     "name": "stdout",
     "output_type": "stream",
     "text": [
      " \n"
     ]
    }
   ],
   "source": [
    "print(p1.name, p2.name)"
   ]
  },
  {
   "cell_type": "code",
   "execution_count": 58,
   "id": "4e63ab83-b3b3-4231-a40b-eba1fa3c8efa",
   "metadata": {},
   "outputs": [],
   "source": [
    "# 3. 사람 정보 대입\n",
    "p1.name = 'hong'\n",
    "p2.name = 'kim'\n",
    "\n",
    "p1.gender = 'F'\n",
    "p2.gender = 'M'\n",
    "\n",
    "p1.age = 20\n",
    "p2.age = 30\n",
    "\n",
    "p1.height = 170\n",
    "p2.height = 180"
   ]
  },
  {
   "cell_type": "code",
   "execution_count": 59,
   "id": "ef2b5745-971f-4650-96db-0122c98fd401",
   "metadata": {},
   "outputs": [
    {
     "name": "stdout",
     "output_type": "stream",
     "text": [
      "안녕하세요. 나는 hong입니다.\n"
     ]
    }
   ],
   "source": [
    "p1.greeting()"
   ]
  },
  {
   "cell_type": "code",
   "execution_count": 60,
   "id": "41aa8dc1-17c6-45a5-87ca-bcd6001d1887",
   "metadata": {},
   "outputs": [
    {
     "name": "stdout",
     "output_type": "stream",
     "text": [
      "안녕하세요. 나는 kim입니다.\n"
     ]
    }
   ],
   "source": [
    "p2.greeting()"
   ]
  },
  {
   "cell_type": "markdown",
   "id": "3cbb9698-3c99-4e61-982e-721398047628",
   "metadata": {},
   "source": [
    "## 생성자, 소멸자\n",
    "```python\n",
    "def__init__(self):\n",
    "    pass\n",
    "def__del__(self):\n",
    "    pass\n",
    "```"
   ]
  },
  {
   "cell_type": "code",
   "execution_count": 183,
   "id": "98362a3f-09f6-44db-93cc-b7b02a4e161d",
   "metadata": {},
   "outputs": [],
   "source": [
    "class Person():\n",
    "    name = ''\n",
    "\n",
    "    def __init__(self, name):\n",
    "        self.name = name\n",
    "        print('생성됨')\n",
    "\n",
    "    def __del__(self):\n",
    "        print('소멸됨')"
   ]
  },
  {
   "cell_type": "code",
   "execution_count": 187,
   "id": "6838b6d3-6c2e-473a-890c-1f614b7f9603",
   "metadata": {},
   "outputs": [
    {
     "name": "stdout",
     "output_type": "stream",
     "text": [
      "생성됨\n",
      "소멸됨\n",
      "생성됨\n",
      "소멸됨\n"
     ]
    }
   ],
   "source": [
    "p1 = Person('kim')  # ==> Person.__init__(p1, 'kim')\n",
    "p2 = Person('park')"
   ]
  },
  {
   "cell_type": "code",
   "execution_count": 77,
   "id": "a302edcf-ea1b-483f-a4b7-52c41d60ceda",
   "metadata": {},
   "outputs": [
    {
     "name": "stdout",
     "output_type": "stream",
     "text": [
      "소멸됨\n"
     ]
    }
   ],
   "source": [
    "del p1"
   ]
  },
  {
   "cell_type": "code",
   "execution_count": 75,
   "id": "892ecdc5-a741-47ea-8ccc-8a646a9ef5e2",
   "metadata": {},
   "outputs": [
    {
     "name": "stdout",
     "output_type": "stream",
     "text": [
      "소멸됨\n"
     ]
    }
   ],
   "source": [
    "del p2"
   ]
  },
  {
   "cell_type": "code",
   "execution_count": 120,
   "id": "3c5fba73-cd78-45d9-aa17-8ba42abcdedf",
   "metadata": {},
   "outputs": [],
   "source": [
    "class Circle():\n",
    "    pi = 3.14\n",
    "    \n",
    "    def __init__(self, r, x=0, y=0):\n",
    "        self.r = r\n",
    "        self.x = x\n",
    "        self.y = y\n",
    "\n",
    "    def info(self):\n",
    "        print(f'반지름: {self.r} , 중심점: {self.x}, {self.y}')\n",
    "\n",
    "    def area(self):\n",
    "        return self.r ** 2 * self.pi\n",
    "\n",
    "    def round(self):\n",
    "        return self.r * self.pi * 2\n",
    "\n",
    "    def move(self, x, y):\n",
    "        self.x = x\n",
    "        self.y = y"
   ]
  },
  {
   "cell_type": "code",
   "execution_count": 121,
   "id": "9d056ca8-5aea-49d2-937a-eb635296dbd6",
   "metadata": {},
   "outputs": [],
   "source": [
    "c1 = Circle(5)\n",
    "c2 = Circle(1, 2, 3)"
   ]
  },
  {
   "cell_type": "code",
   "execution_count": 122,
   "id": "05314c69-77cf-4285-87f5-a5440c035cfb",
   "metadata": {},
   "outputs": [
    {
     "name": "stdout",
     "output_type": "stream",
     "text": [
      "반지름: 5 , 중심점: 0, 0\n",
      "반지름: 1 , 중심점: 2, 3\n"
     ]
    }
   ],
   "source": [
    "c1.info()\n",
    "c2.info()"
   ]
  },
  {
   "cell_type": "code",
   "execution_count": 123,
   "id": "951b1ef4-3ae2-49fb-aeb4-23dc5eca47f9",
   "metadata": {},
   "outputs": [
    {
     "name": "stdout",
     "output_type": "stream",
     "text": [
      "78.5\n",
      "3.14\n"
     ]
    }
   ],
   "source": [
    "print(c1.area())\n",
    "print(c2.area())"
   ]
  },
  {
   "cell_type": "code",
   "execution_count": 124,
   "id": "bfec833d-1e91-41eb-99fb-0351e030a9bb",
   "metadata": {},
   "outputs": [
    {
     "data": {
      "text/plain": [
       "31.400000000000002"
      ]
     },
     "execution_count": 124,
     "metadata": {},
     "output_type": "execute_result"
    }
   ],
   "source": [
    "c1.round()"
   ]
  },
  {
   "cell_type": "code",
   "execution_count": 125,
   "id": "8ca2e372-7129-4758-b7b9-53c2c6763d0e",
   "metadata": {},
   "outputs": [
    {
     "name": "stdout",
     "output_type": "stream",
     "text": [
      "반지름: 5 , 중심점: 100, 100\n"
     ]
    }
   ],
   "source": [
    "c1.move(100, 100)\n",
    "c1.info()"
   ]
  },
  {
   "cell_type": "code",
   "execution_count": 130,
   "id": "c5670721-b32d-4de6-9542-418f638eeeac",
   "metadata": {},
   "outputs": [],
   "source": [
    "class Point():\n",
    "    def __init__(self, x, y):\n",
    "        self.x = x\n",
    "        self.y = y\n",
    "\n",
    "    def info(self):\n",
    "        print(f'{self.x}, {self.y}')"
   ]
  },
  {
   "cell_type": "code",
   "execution_count": 131,
   "id": "438c19b9-4341-4269-9282-c8cceb41afb9",
   "metadata": {},
   "outputs": [],
   "source": [
    "p1 = Point(1, 1)\n",
    "p2 = Point(2, 3)"
   ]
  },
  {
   "cell_type": "code",
   "execution_count": 136,
   "id": "d8fa9be9-a1be-45c1-b5c1-df30913effc4",
   "metadata": {},
   "outputs": [],
   "source": [
    "class Circle():\n",
    "    def __init__(self, r, point):\n",
    "        self.r = r\n",
    "        self.point = point\n",
    "\n",
    "    def info(self):\n",
    "        print(f'반지름: {self.r}, {self.point.x}, {self.point.y}')"
   ]
  },
  {
   "cell_type": "code",
   "execution_count": 137,
   "id": "3d10b359-eb11-4fc5-8125-207302085a44",
   "metadata": {},
   "outputs": [],
   "source": [
    "c1 = Circle(10, p1)\n",
    "c2 = Circle(5, p2)"
   ]
  },
  {
   "cell_type": "markdown",
   "id": "3126c631-7079-4b2b-9490-85e902d582af",
   "metadata": {},
   "source": [
    "## 클래스 변수 / 인스턴스 변수\n",
    "- 클래스 변수: 클래스 선언 블록 최상단에 위치\n",
    "- 인스턴스 변수: 인스턴스 내부에서 생성한 변수\n",
    "\n",
    "```python\n",
    "class MyClass():\n",
    "    class variable = '클래스변수'\n",
    "\n",
    "    def __init__(self):\n",
    "        self.instance_variable = '인스턴스 변수'\n",
    "```"
   ]
  },
  {
   "cell_type": "code",
   "execution_count": null,
   "id": "f230cf1b-09c4-412f-875a-b4e97f7c3798",
   "metadata": {},
   "outputs": [],
   "source": [
    "class Person():\n",
    "    name = ''"
   ]
  },
  {
   "cell_type": "markdown",
   "id": "14358c62-f00b-4d96-b146-c431e768e707",
   "metadata": {},
   "source": [
    "### 클래스 메소드 / 인스턴스 메소드 / 스태틱 메소드\n",
    "```python\n",
    "class MyClass():\n",
    "\n",
    "    def instance_method(self):\n",
    "        pass\n",
    "\n",
    "    @classmethod\n",
    "    def class_method(cls):\n",
    "        pass\n",
    "\n",
    "    @staticmethod\n",
    "    def static_method():\n",
    "        pass\n",
    "```"
   ]
  },
  {
   "cell_type": "code",
   "execution_count": 141,
   "id": "19947b30-765c-4bca-8016-068466aa3539",
   "metadata": {},
   "outputs": [],
   "source": [
    "class MyClass():\n",
    "    def instance_method(self):\n",
    "        print(self)\n",
    "\n",
    "    @classmethod\n",
    "    def class_method(cls):\n",
    "        print(cls)\n",
    "        \n",
    "    @staticmethod\n",
    "    def static_method():\n",
    "        print('static')"
   ]
  },
  {
   "cell_type": "code",
   "execution_count": 150,
   "id": "c2ec1d65-6568-4e26-8e44-86fbe9fe05e9",
   "metadata": {},
   "outputs": [],
   "source": [
    "class Puppy():\n",
    "    num_of_puppy = 0\n",
    "\n",
    "    def __init__(self, name):\n",
    "        self.name = name\n",
    "        Puppy.num_of_puppy += 1\n",
    "\n",
    "    @classmethod\n",
    "    def info(cls):\n",
    "        print(f'현재 강아지는 {cls.num_of_puppy}마리입니다.')\n",
    "\n",
    "    def bark(self):\n",
    "        print(f'멍멍! {self.name}입니다.')\n",
    "\n",
    "    @staticmethod\n",
    "    def bark2():\n",
    "        print('왈왈!')"
   ]
  },
  {
   "cell_type": "code",
   "execution_count": 151,
   "id": "0a2898b8-2409-40c1-831b-6b9ef42ada29",
   "metadata": {},
   "outputs": [
    {
     "name": "stdout",
     "output_type": "stream",
     "text": [
      "현재 강아지는 3마리입니다.\n"
     ]
    }
   ],
   "source": [
    "p1 = Puppy('초코')\n",
    "p2 = Puppy('구름')\n",
    "p3 = Puppy('인절미')\n",
    "\n",
    "Puppy.info()"
   ]
  },
  {
   "cell_type": "code",
   "execution_count": 153,
   "id": "f2b326d4-5bbc-4994-ba1c-59ace0c8f1b9",
   "metadata": {},
   "outputs": [
    {
     "name": "stdout",
     "output_type": "stream",
     "text": [
      "멍멍! 초코입니다.\n",
      "멍멍! 구름입니다.\n",
      "멍멍! 인절미입니다.\n"
     ]
    }
   ],
   "source": [
    "p1.bark()\n",
    "p2.bark()\n",
    "p3.bark()"
   ]
  },
  {
   "cell_type": "markdown",
   "id": "66045252-3c78-45d1-998e-895b525163d6",
   "metadata": {},
   "source": [
    "# 상속"
   ]
  },
  {
   "cell_type": "code",
   "execution_count": 155,
   "id": "e08ba6b8-b4b9-4524-9728-2022d913e759",
   "metadata": {},
   "outputs": [],
   "source": [
    "class Person():\n",
    "    ident = ''\n",
    "\n",
    "    def __init__(self, name):\n",
    "        self.name = name\n",
    "\n",
    "    def greeting(self):\n",
    "        print(f'안녕하세요. {self.name}입니다.')"
   ]
  },
  {
   "cell_type": "code",
   "execution_count": 156,
   "id": "59666272-ca39-4cea-a74f-156e175fbe21",
   "metadata": {},
   "outputs": [],
   "source": [
    "p1 = Person('hong')\n",
    "p2 = Person('kim')"
   ]
  },
  {
   "cell_type": "code",
   "execution_count": 160,
   "id": "31b09831-ef6d-4072-b70e-6064759c9654",
   "metadata": {},
   "outputs": [
    {
     "name": "stdout",
     "output_type": "stream",
     "text": [
      "안녕하세요. hong입니다.\n",
      "안녕하세요. kim입니다.\n"
     ]
    }
   ],
   "source": [
    "p1.greeting()\n",
    "p2.greeting()"
   ]
  },
  {
   "cell_type": "code",
   "execution_count": 161,
   "id": "1f81c03c-e6f9-497f-82ec-593e7fea2fb5",
   "metadata": {},
   "outputs": [],
   "source": [
    "class Soldier(Person):\n",
    "    def soldier_greeting(self):\n",
    "        print(f'충성! {self.name}입니다.')"
   ]
  },
  {
   "cell_type": "code",
   "execution_count": 162,
   "id": "4a6e0605-39c2-4e27-8e5d-96c239a696dd",
   "metadata": {},
   "outputs": [
    {
     "name": "stdout",
     "output_type": "stream",
     "text": [
      "안녕하세요. 굳건이입니다.\n"
     ]
    }
   ],
   "source": [
    "s1 = Soldier('굳건이')\n",
    "s1.greeting()"
   ]
  },
  {
   "cell_type": "code",
   "execution_count": 166,
   "id": "c8dd77aa-25e8-4a5c-aa44-d378ee1196e1",
   "metadata": {},
   "outputs": [],
   "source": [
    "class Person():\n",
    "    def __init__(self, name, age, email, phone):\n",
    "        self.name = name\n",
    "        self.age = age\n",
    "        self.email = email\n",
    "        self.phone = phone\n",
    "\n",
    "class Student(Person):\n",
    "    def __init__(self, name, age, email, phone, student_id):\n",
    "        super().__init__(name, age, email, phone)\n",
    "        self.student_id = student_id"
   ]
  },
  {
   "cell_type": "markdown",
   "id": "3a6f2fcc-0d16-4a91-8ab0-5887c0f39f0d",
   "metadata": {},
   "source": [
    "### 다중상속"
   ]
  },
  {
   "cell_type": "code",
   "execution_count": 172,
   "id": "6be2fba6-9718-4d70-a63f-724afcc276d2",
   "metadata": {},
   "outputs": [],
   "source": [
    "class Person():\n",
    "    def __init__(self, name):\n",
    "        self.name = name\n",
    "\n",
    "    def breath(self):\n",
    "        print('후하')"
   ]
  },
  {
   "cell_type": "code",
   "execution_count": 173,
   "id": "2f5a6f2a-8806-468a-ac3f-3e0c4f78cd65",
   "metadata": {},
   "outputs": [],
   "source": [
    "class Mom():\n",
    "    gene = 'xx'\n",
    "\n",
    "    def swim(self):\n",
    "        print('어푸어푸')"
   ]
  },
  {
   "cell_type": "code",
   "execution_count": 174,
   "id": "3adfc332-09eb-49f5-9cfb-39ea2a782fca",
   "metadata": {},
   "outputs": [],
   "source": [
    "class Dad(Person):\n",
    "    gene = 'xy'\n",
    "\n",
    "    def run(self):\n",
    "        print('다다다')"
   ]
  },
  {
   "cell_type": "code",
   "execution_count": 175,
   "id": "45de957d-c485-4964-b272-45a619d14783",
   "metadata": {},
   "outputs": [],
   "source": [
    "class Child(Mom, Dad):\n",
    "    pass"
   ]
  },
  {
   "cell_type": "code",
   "execution_count": 176,
   "id": "f05262a5-29f8-43d2-a33a-90ea36f16611",
   "metadata": {},
   "outputs": [
    {
     "name": "stdout",
     "output_type": "stream",
     "text": [
      "후하\n",
      "다다다\n",
      "어푸어푸\n"
     ]
    }
   ],
   "source": [
    "c = Child('금쪽이')\n",
    "c.breath()\n",
    "c.run()\n",
    "c.swim()"
   ]
  },
  {
   "cell_type": "code",
   "execution_count": 177,
   "id": "8a576688-f28f-4e03-9623-f61c5ce0dc98",
   "metadata": {},
   "outputs": [
    {
     "data": {
      "text/plain": [
       "'xx'"
      ]
     },
     "execution_count": 177,
     "metadata": {},
     "output_type": "execute_result"
    }
   ],
   "source": [
    "c.gene"
   ]
  },
  {
   "cell_type": "code",
   "execution_count": null,
   "id": "7f4f7196-8e79-4d63-899a-9ccbe59d085e",
   "metadata": {},
   "outputs": [],
   "source": []
  }
 ],
 "metadata": {
  "kernelspec": {
   "display_name": "Python 3 (ipykernel)",
   "language": "python",
   "name": "python3"
  },
  "language_info": {
   "codemirror_mode": {
    "name": "ipython",
    "version": 3
   },
   "file_extension": ".py",
   "mimetype": "text/x-python",
   "name": "python",
   "nbconvert_exporter": "python",
   "pygments_lexer": "ipython3",
   "version": "3.13.2"
  }
 },
 "nbformat": 4,
 "nbformat_minor": 5
}
