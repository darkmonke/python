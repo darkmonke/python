{
 "cells": [
  {
   "cell_type": "code",
   "execution_count": 74,
   "id": "a3af46ff-58f2-4fb4-8ee6-e92e122deb66",
   "metadata": {},
   "outputs": [
    {
     "name": "stdout",
     "output_type": "stream",
     "text": [
      "연주 시작!!!\n",
      "스네어1의 볼륨은 52입니다.\n",
      "킥1의 볼륨은 52입니다.\n",
      "스네어2의 볼륨은 52입니다.\n",
      "킥2의 볼륨은 52입니다.\n"
     ]
    }
   ],
   "source": [
    "# 1. 드럼 클래스 정의\n",
    "import random\n",
    "\n",
    "list_a = range(1, 6)\n",
    "list_b = range(1, 16)\n",
    "# 드럼의 각 구성 요소가 담긴 리스트를 사전에 정의해서 코드를 간단하게 만들 수도 있을 거 같음.\n",
    "    \n",
    "strength = random.choice(list_a)\n",
    "set_up = random.choice(list_b)\n",
    "    \n",
    "volume = strength * set_up\n",
    "\n",
    "class Drum:\n",
    "    def __init__(snare, kick):\n",
    "        self.snare = snare\n",
    "        self.kick = kick\n",
    "    \n",
    "    def SNARE(self):\n",
    "        print(volume)\n",
    "        \n",
    "    def KICK(self):\n",
    "        print(volume)\n",
    "\n",
    "# 드럼 객체 생성\n",
    "D1 = Drum(\"스네어1\", \"킥1\")\n",
    "D2 = Drum(\"스네어2\", \"킥2\")\n",
    "\n",
    "# 연주 시뮬레이션 시작\n",
    "print('연주 시작!!!')\n",
    "while True:\n",
    "    # D1 스네어, D1 킥\n",
    "    print(f\"{D1.snare}의 볼륨은 {volume}입니다.\")\n",
    "    \n",
    "    print(f\"{D1.kick}의 볼륨은 {volume}입니다.\")\n",
    "    \n",
    "    # D2 스네어, D2 킥\n",
    "    print(f\"{D2.snare}의 볼륨은 {volume}입니다.\")\n",
    "\n",
    "    print(f\"{D2.kick}의 볼륨은 {volume}입니다.\")\n",
    "    break"
   ]
  },
  {
   "cell_type": "code",
   "execution_count": null,
   "id": "c2ecc2cf-c835-4ecc-8afc-7b81b7518d5f",
   "metadata": {},
   "outputs": [],
   "source": []
  },
  {
   "cell_type": "code",
   "execution_count": null,
   "id": "66f7d154-084a-44f6-901e-512b0a0dcf7d",
   "metadata": {},
   "outputs": [],
   "source": []
  }
 ],
 "metadata": {
  "kernelspec": {
   "display_name": "Python 3 (ipykernel)",
   "language": "python",
   "name": "python3"
  },
  "language_info": {
   "codemirror_mode": {
    "name": "ipython",
    "version": 3
   },
   "file_extension": ".py",
   "mimetype": "text/x-python",
   "name": "python",
   "nbconvert_exporter": "python",
   "pygments_lexer": "ipython3",
   "version": "3.13.2"
  }
 },
 "nbformat": 4,
 "nbformat_minor": 5
}
