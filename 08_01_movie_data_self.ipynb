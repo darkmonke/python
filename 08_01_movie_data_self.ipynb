{
 "cells": [
  {
   "cell_type": "code",
   "execution_count": 26,
   "id": "33063d66-b070-4e83-bf70-5bc6623f38b6",
   "metadata": {},
   "outputs": [],
   "source": [
    "import requests\n",
    "\n",
    "class URLMaker:\n",
    "    \"\"\"\n",
    "    영화진흥위원회 API URL 생성 클래스\n",
    "    \"\"\"\n",
    "    \n",
    "    url = 'http://www.kobis.or.kr/kobisopenapi/webservice/rest'\n",
    "\n",
    "    def __init__(self, key):\n",
    "        \"\"\"\n",
    "        API key 초기화\n",
    "        \"\"\"\n",
    "        self.key = key\n",
    "\n",
    "    def daily_boxoffice_url(self, targetDt, itemPerPage=10, multiMovieYn='', repNationCd='', wideAreaCd=''):\n",
    "        \"\"\"\n",
    "        일별 박스오피스 URL 생성\n",
    "        \"\"\"\n",
    "        return f'{self.url}/boxoffice/searchDailyBoxOfficeList.json?key={self.key}&targetDt={targetDt}&itemPerPage={itemPerPage}&multiMovieYn={multiMovieYn}&repNationCd={repNationCd}&wideAreaCd={wideAreaCd}'\n",
    "\n",
    "    def weekly_boxoffice_url(self, targetDt, weekGb='0', itemPerPage=10, multiMovieYn='', repNationCd='', wideAreaCd=''):\n",
    "        \"\"\"\n",
    "        주간/주말 박스오피스 URL 생성\n",
    "        weekGb: 0(주간), 1(주말), 2(주중)\n",
    "        \"\"\"\n",
    "        return f'{self.url}/boxoffice/searchWeeklyBoxOfficeList.json?key={self.key}&targetDt={targetDt}&weekGb={weekGb}&itemPerPage={itemPerPage}&multiMovieYn={multiMovieYn}&repNationCd={repNationCd}&wideAreaCd={wideAreaCd}'\n",
    "\n",
    "    def movie_list_url(self, curPage=1, itemPerPage=10, movieNm='', directorNm='', openStartDt='', openEndDt='', \n",
    "                      prdtStartYear='', prdtEndYear='', repNationCd='', movieTypeCd=''):\n",
    "        \"\"\"\n",
    "        영화목록 URL 생성\n",
    "        \"\"\"\n",
    "        return f'{self.url}/movie/searchMovieList.json?key={self.key}&curPage={curPage}&itemPerPage={itemPerPage}&movieNm={movieNm}&directorNm={directorNm}&openStartDt={openStartDt}&openEndDt={openEndDt}&prdtStartYear={prdtStartYear}&prdtEndYear={prdtEndYear}&repNationCd={repNationCd}&movieTypeCd={movieTypeCd}'\n",
    "\n",
    "    def movie_info_url(self, movieCd):\n",
    "        \"\"\"\n",
    "        영화 상세정보 URL 생성\n",
    "        \"\"\"\n",
    "        return f'{self.url}/movie/searchMovieInfo.json?key={self.key}&movieCd={movieCd}'\n",
    "\n",
    "    def people_list_url(self, curPage=1, itemPerPage=10, peopleNm='', filmoNames=''):\n",
    "        \"\"\"\n",
    "        영화인목록 URL 생성\n",
    "        \"\"\"\n",
    "        return f'{self.url}/people/searchPeopleList.json?key={self.key}&curPage={curPage}&itemPerPage={itemPerPage}&peopleNm={peopleNm}&filmoNames={filmoNames}'\n",
    "\n",
    "    def people_info_url(self, peopleCd):\n",
    "        \"\"\"\n",
    "        영화인 상세정보 URL 생성\n",
    "        \"\"\"\n",
    "        return f'{self.url}/people/searchPeopleInfo.json?key={self.key}&peopleCd={peopleCd}'"
   ]
  },
  {
   "cell_type": "code",
   "execution_count": 27,
   "id": "1932ec75-5279-49f8-ba28-89ac7100440f",
   "metadata": {},
   "outputs": [],
   "source": [
    "MY_API_KEY = 'e1734de714fc7a3896716e31d3cfc9e4'\n",
    "url_maker = URLMaker(MY_API_KEY)"
   ]
  },
  {
   "cell_type": "code",
   "execution_count": 28,
   "id": "05bf60b8-c68d-4d50-a139-bafb2040caaf",
   "metadata": {},
   "outputs": [
    {
     "data": {
      "text/plain": [
       "'e1734de714fc7a3896716e31d3cfc9e4'"
      ]
     },
     "execution_count": 28,
     "metadata": {},
     "output_type": "execute_result"
    }
   ],
   "source": [
    "url_maker.key"
   ]
  },
  {
   "cell_type": "code",
   "execution_count": 29,
   "id": "2503038e-4f6a-4efa-878a-64652bdb448b",
   "metadata": {},
   "outputs": [
    {
     "name": "stdout",
     "output_type": "stream",
     "text": [
      "http://www.kobis.or.kr/kobisopenapi/webservice/rest/boxoffice/searchWeeklyBoxOfficeList.json?key=e1734de714fc7a3896716e31d3cfc9e4&targetDt=20250201&weekGb=0&itemPerPage=10&multiMovieYn=&repNationCd=&wideAreaCd=\n"
     ]
    }
   ],
   "source": [
    "daily_url = url_maker.daily_boxoffice_url('20240201')\n",
    "weekly_url = url_maker.weekly_boxoffice_url('20250201')\n",
    "print(weekly_url)"
   ]
  },
  {
   "cell_type": "markdown",
   "id": "b0f95244-5004-4106-babf-6a9d86751b90",
   "metadata": {},
   "source": [
    "# 1. 영화 상세정보 조회"
   ]
  },
  {
   "cell_type": "code",
   "execution_count": 32,
   "id": "bce70ade-4851-4459-bf3a-a66e8b1ef531",
   "metadata": {},
   "outputs": [],
   "source": [
    "def get_movie_detail(movie_Cd):\n",
    "    DETAIL_URL = url_maker.movie_info_url(movie_Cd)\n",
    "    res = requests.get(DETAIL_URL)\n",
    "    l = res.json()\n",
    "    print(DETAIL_URL)\n",
    "\n",
    "    movie_nm = l['movieInfoResult']['movieInfo']['movieNm']\n",
    "    movie_dt = l['movieInfoResult']['movieInfo']['prdtYear']\n",
    "    movie_dir = l['movieInfoResult']['movieInfo']['directors'][0]\n",
    "    \n",
    "    print(f'{movie_nm} ({movie_dt})')\n",
    "    print(f'감독: {movie_dir}')"
   ]
  },
  {
   "cell_type": "code",
   "execution_count": 33,
   "id": "9ebf9a1f-d678-4293-9bbe-ecc7cffe8492",
   "metadata": {},
   "outputs": [
    {
     "name": "stdout",
     "output_type": "stream",
     "text": [
      "http://www.kobis.or.kr/kobisopenapi/webservice/rest/movie/searchMovieInfo.json?key=e1734de714fc7a3896716e31d3cfc9e4&movieCd=19950084\n",
      "쇼생크 탈출 (1994)\n",
      "감독: {'peopleNm': '프랭크 다라본트', 'peopleNmEn': 'Frank Darabont'}\n"
     ]
    }
   ],
   "source": [
    "get_movie_detail('19950084')"
   ]
  },
  {
   "cell_type": "code",
   "execution_count": null,
   "id": "0cfe2e2f-e8d9-4e05-be06-3e5dfc7b063f",
   "metadata": {},
   "outputs": [],
   "source": []
  }
 ],
 "metadata": {
  "kernelspec": {
   "display_name": "Python 3 (ipykernel)",
   "language": "python",
   "name": "python3"
  },
  "language_info": {
   "codemirror_mode": {
    "name": "ipython",
    "version": 3
   },
   "file_extension": ".py",
   "mimetype": "text/x-python",
   "name": "python",
   "nbconvert_exporter": "python",
   "pygments_lexer": "ipython3",
   "version": "3.13.2"
  }
 },
 "nbformat": 4,
 "nbformat_minor": 5
}
