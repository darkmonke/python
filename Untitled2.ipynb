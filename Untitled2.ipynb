{
 "cells": [
  {
   "cell_type": "code",
   "execution_count": 1,
   "id": "6199277b-5abe-470f-a046-54a70d84fded",
   "metadata": {},
   "outputs": [],
   "source": [
    "a = True\n",
    "b = False\n",
    "c = 1"
   ]
  },
  {
   "cell_type": "code",
   "execution_count": 2,
   "id": "e1006b51-996a-443f-afe1-757a97440711",
   "metadata": {},
   "outputs": [
    {
     "name": "stdout",
     "output_type": "stream",
     "text": [
      "1\n",
      "2\n"
     ]
    }
   ],
   "source": [
    "print(a + b)\n",
    "print(a + c)"
   ]
  },
  {
   "cell_type": "code",
   "execution_count": 5,
   "id": "44d9535b-26db-4d96-ac6b-462359f93601",
   "metadata": {},
   "outputs": [],
   "source": [
    "a = 1\n",
    "b = '반'"
   ]
  },
  {
   "cell_type": "code",
   "execution_count": 7,
   "id": "37f171af-b312-4223-9794-404a2c32571b",
   "metadata": {},
   "outputs": [
    {
     "name": "stdout",
     "output_type": "stream",
     "text": [
      "1반\n"
     ]
    }
   ],
   "source": [
    "print(str(a) + b)"
   ]
  },
  {
   "cell_type": "code",
   "execution_count": 15,
   "id": "bf52c3b2-44af-4921-9dd7-ab30a6d8de22",
   "metadata": {},
   "outputs": [
    {
     "name": "stdout",
     "output_type": "stream",
     "text": [
      "[]\n",
      "<class 'list'>\n"
     ]
    }
   ],
   "source": [
    "l = []\n",
    "print(l)\n",
    "print(type(l))"
   ]
  },
  {
   "cell_type": "code",
   "execution_count": 22,
   "id": "00b00ef4-0e81-4f74-8d0a-bcf516e9f498",
   "metadata": {},
   "outputs": [
    {
     "name": "stdout",
     "output_type": "stream",
     "text": [
      "['서울', '대전', '부산']\n",
      "부산\n",
      "['서울', '대구', '부산']\n",
      "['부산', '대구', '부산']\n"
     ]
    }
   ],
   "source": [
    "location = ['서울', '대전', '부산']\n",
    "print(location)\n",
    "print(location[2])\n",
    "\n",
    "location[1] = '대구'\n",
    "print(location)\n",
    "\n",
    "location[0] = '부산'\n",
    "print(location)"
   ]
  },
  {
   "cell_type": "code",
   "execution_count": 23,
   "id": "4bb2a737-3969-4b2d-8cf6-502661984e0a",
   "metadata": {},
   "outputs": [
    {
     "name": "stdout",
     "output_type": "stream",
     "text": [
      "('서울', '대전', '대구')\n",
      "서울\n"
     ]
    }
   ],
   "source": [
    "location = ('서울', '대전', '대구')\n",
    "print(location)\n",
    "print(location[0])"
   ]
  },
  {
   "cell_type": "code",
   "execution_count": 24,
   "id": "defe4368-bcce-46ff-bf67-fa827c392ad2",
   "metadata": {},
   "outputs": [
    {
     "name": "stdout",
     "output_type": "stream",
     "text": [
      "range(0, 45)\n",
      "[0, 1, 2, 3, 4, 5, 6, 7, 8, 9, 10, 11, 12, 13, 14, 15, 16, 17, 18, 19, 20, 21, 22, 23, 24, 25, 26, 27, 28, 29, 30, 31, 32, 33, 34, 35, 36, 37, 38, 39, 40, 41, 42, 43, 44]\n"
     ]
    }
   ],
   "source": [
    "lotto = range(45)\n",
    "print(lotto)\n",
    "print(list(lotto))"
   ]
  },
  {
   "cell_type": "code",
   "execution_count": 26,
   "id": "da36b4ed-0f33-4eaf-a4ff-c7def57dc3bf",
   "metadata": {},
   "outputs": [
    {
     "name": "stdout",
     "output_type": "stream",
     "text": [
      "range(8, 47)\n",
      "[8, 9, 10, 11, 12, 13, 14, 15, 16, 17, 18, 19, 20, 21, 22, 23, 24, 25, 26, 27, 28, 29, 30, 31, 32, 33, 34, 35, 36, 37, 38, 39, 40, 41, 42, 43, 44, 45, 46]\n"
     ]
    }
   ],
   "source": [
    "lotto = range(8, 47)\n",
    "print(lotto)\n",
    "print(list(lotto))"
   ]
  },
  {
   "cell_type": "code",
   "execution_count": 44,
   "id": "464a8152-9111-4e9e-b65d-e1ce92c4ea0c",
   "metadata": {},
   "outputs": [
    {
     "name": "stdout",
     "output_type": "stream",
     "text": [
      "[3, 6, 9, 12, 15, 18, 21, 24, 27, 30, 33, 36, 39, 42, 45]\n"
     ]
    }
   ],
   "source": [
    "odd = range(2, 46, 3)\n",
    "print(list(even))"
   ]
  },
  {
   "cell_type": "code",
   "execution_count": 45,
   "id": "a45836b3-3f14-4849-8296-e0fca914a645",
   "metadata": {},
   "outputs": [
    {
     "name": "stdout",
     "output_type": "stream",
     "text": [
      "[-18, -20]\n"
     ]
    }
   ],
   "source": [
    "numbers = range(-18, -22, -2)\n",
    "print(list(numbers))"
   ]
  },
  {
   "cell_type": "code",
   "execution_count": 47,
   "id": "5abe2921-56e9-42b9-b162-c5848c61bf40",
   "metadata": {},
   "outputs": [],
   "source": [
    "my_list = ['a', 'b', 'c', 'd', 'e']\n",
    "my_tuple = (6, 7, 8, 9, 10)\n",
    "my_range = range(5)\n",
    "my_string = '가나다라마'"
   ]
  },
  {
   "cell_type": "code",
   "execution_count": 48,
   "id": "dc2c1eda-f8ef-48b2-bddb-2b48edf0aaa3",
   "metadata": {},
   "outputs": [
    {
     "name": "stdout",
     "output_type": "stream",
     "text": [
      "a\n",
      "6\n",
      "0\n",
      "가\n"
     ]
    }
   ],
   "source": [
    "print(my_list[0])\n",
    "print(my_tuple[0])\n",
    "print(my_range[0])\n",
    "print(my_string[0])"
   ]
  },
  {
   "cell_type": "code",
   "execution_count": 49,
   "id": "5d9acdf5-b473-4690-aedb-0d7ea705597f",
   "metadata": {},
   "outputs": [
    {
     "name": "stdout",
     "output_type": "stream",
     "text": [
      "['d', 'e']\n",
      "['a', 'b', 'c']\n"
     ]
    }
   ],
   "source": [
    "print(my_list[3:])\n",
    "print(my_list[:3])"
   ]
  },
  {
   "cell_type": "code",
   "execution_count": 50,
   "id": "eaf349f7-d6de-4ab9-8384-70ff3ccf7d64",
   "metadata": {},
   "outputs": [
    {
     "name": "stdout",
     "output_type": "stream",
     "text": [
      "e\n",
      "['c', 'd']\n"
     ]
    }
   ],
   "source": [
    "print(my_list[-1])\n",
    "print(my_list[-3:-1])"
   ]
  },
  {
   "cell_type": "code",
   "execution_count": 54,
   "id": "9c5cca7e-f882-4567-9bf8-8ba3774044fb",
   "metadata": {},
   "outputs": [
    {
     "name": "stdout",
     "output_type": "stream",
     "text": [
      "['a']\n"
     ]
    }
   ],
   "source": [
    "print(my_list[::5])"
   ]
  },
  {
   "cell_type": "code",
   "execution_count": 55,
   "id": "883f3826-3fc2-4078-a33e-7e84c054d6d4",
   "metadata": {},
   "outputs": [
    {
     "name": "stdout",
     "output_type": "stream",
     "text": [
      "False\n",
      "True\n"
     ]
    }
   ],
   "source": [
    "print(1 in my_list)\n",
    "print('a' in my_list)"
   ]
  },
  {
   "cell_type": "code",
   "execution_count": 56,
   "id": "9f68da78-5edc-4440-8019-e01165c9f767",
   "metadata": {},
   "outputs": [
    {
     "name": "stdout",
     "output_type": "stream",
     "text": [
      "['a', 'b', 'c', 'd', 'e', 'a', 'b', 'c', 'd', 'e']\n",
      "aaaaa\n"
     ]
    }
   ],
   "source": [
    "print(my_list * 2)\n",
    "print('a' * 5)"
   ]
  },
  {
   "cell_type": "code",
   "execution_count": 59,
   "id": "26d08e5a-f77b-443b-88e6-b94dfc4d011e",
   "metadata": {},
   "outputs": [],
   "source": [
    "my_set_a = {1, 2, 3, 4, 5, 6, 6, 6, 6, 7, 7, 7, 8, 8, 8, 9}\n",
    "my_set_b = {1, 3, 5, 7, 9}"
   ]
  },
  {
   "cell_type": "code",
   "execution_count": 60,
   "id": "66ddd050-6910-4c77-9545-cd24eb482fc0",
   "metadata": {},
   "outputs": [
    {
     "name": "stdout",
     "output_type": "stream",
     "text": [
      "{1, 2, 3, 4, 5, 6, 7, 8, 9}\n",
      "{1, 3, 5, 7, 9}\n"
     ]
    }
   ],
   "source": [
    "print(my_set_a)\n",
    "print(my_set_b)"
   ]
  },
  {
   "cell_type": "code",
   "execution_count": null,
   "id": "988eeb48-e4b0-4959-a2c0-3d33e41730c7",
   "metadata": {},
   "outputs": [],
   "source": []
  }
 ],
 "metadata": {
  "kernelspec": {
   "display_name": "Python 3 (ipykernel)",
   "language": "python",
   "name": "python3"
  },
  "language_info": {
   "codemirror_mode": {
    "name": "ipython",
    "version": 3
   },
   "file_extension": ".py",
   "mimetype": "text/x-python",
   "name": "python",
   "nbconvert_exporter": "python",
   "pygments_lexer": "ipython3",
   "version": "3.13.2"
  }
 },
 "nbformat": 4,
 "nbformat_minor": 5
}
